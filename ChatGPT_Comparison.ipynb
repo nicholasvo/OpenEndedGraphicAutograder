{
  "nbformat": 4,
  "nbformat_minor": 0,
  "metadata": {
    "colab": {
      "provenance": []
    },
    "kernelspec": {
      "name": "python3",
      "display_name": "Python 3"
    },
    "language_info": {
      "name": "python"
    }
  },
  "cells": [
    {
      "cell_type": "markdown",
      "source": [
        "# 1. Set-up"
      ],
      "metadata": {
        "id": "-LM0icWOyDsH"
      }
    },
    {
      "cell_type": "markdown",
      "source": [
        "## 1.0 Installations"
      ],
      "metadata": {
        "id": "vfdF0oB_yD_w"
      }
    },
    {
      "cell_type": "code",
      "execution_count": null,
      "metadata": {
        "colab": {
          "base_uri": "https://localhost:8080/"
        },
        "id": "-y1h3CzkwpGG",
        "outputId": "7cdaade9-6021-4487-9827-46da4461877d"
      },
      "outputs": [
        {
          "output_type": "stream",
          "name": "stdout",
          "text": [
            "Collecting easyfsl\n",
            "  Downloading easyfsl-1.5.0-py3-none-any.whl (72 kB)\n",
            "\u001b[?25l     \u001b[90m━━━━━━━━━━━━━━━━━━━━━━━━━━━━━━━━━━━━━━━━\u001b[0m \u001b[32m0.0/72.8 kB\u001b[0m \u001b[31m?\u001b[0m eta \u001b[36m-:--:--\u001b[0m\r\u001b[2K     \u001b[91m━━━━━━━━━━━━━━━━━━━━━━━━━━━━━━━━━━━━━━━\u001b[0m\u001b[90m╺\u001b[0m \u001b[32m71.7/72.8 kB\u001b[0m \u001b[31m2.2 MB/s\u001b[0m eta \u001b[36m0:00:01\u001b[0m\r\u001b[2K     \u001b[90m━━━━━━━━━━━━━━━━━━━━━━━━━━━━━━━━━━━━━━━━\u001b[0m \u001b[32m72.8/72.8 kB\u001b[0m \u001b[31m1.7 MB/s\u001b[0m eta \u001b[36m0:00:00\u001b[0m\n",
            "\u001b[?25hRequirement already satisfied: matplotlib>=3.0.0 in /usr/local/lib/python3.10/dist-packages (from easyfsl) (3.7.1)\n",
            "Requirement already satisfied: pandas>=1.5.0 in /usr/local/lib/python3.10/dist-packages (from easyfsl) (1.5.3)\n",
            "Requirement already satisfied: torch>=1.5.0 in /usr/local/lib/python3.10/dist-packages (from easyfsl) (2.2.1+cu121)\n",
            "Requirement already satisfied: torchvision>=0.7.0 in /usr/local/lib/python3.10/dist-packages (from easyfsl) (0.17.1+cu121)\n",
            "Requirement already satisfied: tqdm>=4.1.0 in /usr/local/lib/python3.10/dist-packages (from easyfsl) (4.66.2)\n",
            "Requirement already satisfied: contourpy>=1.0.1 in /usr/local/lib/python3.10/dist-packages (from matplotlib>=3.0.0->easyfsl) (1.2.0)\n",
            "Requirement already satisfied: cycler>=0.10 in /usr/local/lib/python3.10/dist-packages (from matplotlib>=3.0.0->easyfsl) (0.12.1)\n",
            "Requirement already satisfied: fonttools>=4.22.0 in /usr/local/lib/python3.10/dist-packages (from matplotlib>=3.0.0->easyfsl) (4.49.0)\n",
            "Requirement already satisfied: kiwisolver>=1.0.1 in /usr/local/lib/python3.10/dist-packages (from matplotlib>=3.0.0->easyfsl) (1.4.5)\n",
            "Requirement already satisfied: numpy>=1.20 in /usr/local/lib/python3.10/dist-packages (from matplotlib>=3.0.0->easyfsl) (1.25.2)\n",
            "Requirement already satisfied: packaging>=20.0 in /usr/local/lib/python3.10/dist-packages (from matplotlib>=3.0.0->easyfsl) (24.0)\n",
            "Requirement already satisfied: pillow>=6.2.0 in /usr/local/lib/python3.10/dist-packages (from matplotlib>=3.0.0->easyfsl) (9.4.0)\n",
            "Requirement already satisfied: pyparsing>=2.3.1 in /usr/local/lib/python3.10/dist-packages (from matplotlib>=3.0.0->easyfsl) (3.1.2)\n",
            "Requirement already satisfied: python-dateutil>=2.7 in /usr/local/lib/python3.10/dist-packages (from matplotlib>=3.0.0->easyfsl) (2.8.2)\n",
            "Requirement already satisfied: pytz>=2020.1 in /usr/local/lib/python3.10/dist-packages (from pandas>=1.5.0->easyfsl) (2023.4)\n",
            "Requirement already satisfied: filelock in /usr/local/lib/python3.10/dist-packages (from torch>=1.5.0->easyfsl) (3.13.1)\n",
            "Requirement already satisfied: typing-extensions>=4.8.0 in /usr/local/lib/python3.10/dist-packages (from torch>=1.5.0->easyfsl) (4.10.0)\n",
            "Requirement already satisfied: sympy in /usr/local/lib/python3.10/dist-packages (from torch>=1.5.0->easyfsl) (1.12)\n",
            "Requirement already satisfied: networkx in /usr/local/lib/python3.10/dist-packages (from torch>=1.5.0->easyfsl) (3.2.1)\n",
            "Requirement already satisfied: jinja2 in /usr/local/lib/python3.10/dist-packages (from torch>=1.5.0->easyfsl) (3.1.3)\n",
            "Requirement already satisfied: fsspec in /usr/local/lib/python3.10/dist-packages (from torch>=1.5.0->easyfsl) (2023.6.0)\n",
            "Collecting nvidia-cuda-nvrtc-cu12==12.1.105 (from torch>=1.5.0->easyfsl)\n",
            "  Downloading nvidia_cuda_nvrtc_cu12-12.1.105-py3-none-manylinux1_x86_64.whl (23.7 MB)\n",
            "\u001b[2K     \u001b[90m━━━━━━━━━━━━━━━━━━━━━━━━━━━━━━━━━━━━━━━━\u001b[0m \u001b[32m23.7/23.7 MB\u001b[0m \u001b[31m25.9 MB/s\u001b[0m eta \u001b[36m0:00:00\u001b[0m\n",
            "\u001b[?25hCollecting nvidia-cuda-runtime-cu12==12.1.105 (from torch>=1.5.0->easyfsl)\n",
            "  Downloading nvidia_cuda_runtime_cu12-12.1.105-py3-none-manylinux1_x86_64.whl (823 kB)\n",
            "\u001b[2K     \u001b[90m━━━━━━━━━━━━━━━━━━━━━━━━━━━━━━━━━━━━━━━━\u001b[0m \u001b[32m823.6/823.6 kB\u001b[0m \u001b[31m37.4 MB/s\u001b[0m eta \u001b[36m0:00:00\u001b[0m\n",
            "\u001b[?25hCollecting nvidia-cuda-cupti-cu12==12.1.105 (from torch>=1.5.0->easyfsl)\n",
            "  Downloading nvidia_cuda_cupti_cu12-12.1.105-py3-none-manylinux1_x86_64.whl (14.1 MB)\n",
            "\u001b[2K     \u001b[90m━━━━━━━━━━━━━━━━━━━━━━━━━━━━━━━━━━━━━━━━\u001b[0m \u001b[32m14.1/14.1 MB\u001b[0m \u001b[31m39.0 MB/s\u001b[0m eta \u001b[36m0:00:00\u001b[0m\n",
            "\u001b[?25hCollecting nvidia-cudnn-cu12==8.9.2.26 (from torch>=1.5.0->easyfsl)\n",
            "  Downloading nvidia_cudnn_cu12-8.9.2.26-py3-none-manylinux1_x86_64.whl (731.7 MB)\n",
            "\u001b[2K     \u001b[90m━━━━━━━━━━━━━━━━━━━━━━━━━━━━━━━━━━━━━━━━\u001b[0m \u001b[32m731.7/731.7 MB\u001b[0m \u001b[31m1.7 MB/s\u001b[0m eta \u001b[36m0:00:00\u001b[0m\n",
            "\u001b[?25hCollecting nvidia-cublas-cu12==12.1.3.1 (from torch>=1.5.0->easyfsl)\n",
            "  Downloading nvidia_cublas_cu12-12.1.3.1-py3-none-manylinux1_x86_64.whl (410.6 MB)\n",
            "\u001b[2K     \u001b[90m━━━━━━━━━━━━━━━━━━━━━━━━━━━━━━━━━━━━━━━━\u001b[0m \u001b[32m410.6/410.6 MB\u001b[0m \u001b[31m2.7 MB/s\u001b[0m eta \u001b[36m0:00:00\u001b[0m\n",
            "\u001b[?25hCollecting nvidia-cufft-cu12==11.0.2.54 (from torch>=1.5.0->easyfsl)\n",
            "  Downloading nvidia_cufft_cu12-11.0.2.54-py3-none-manylinux1_x86_64.whl (121.6 MB)\n",
            "\u001b[2K     \u001b[90m━━━━━━━━━━━━━━━━━━━━━━━━━━━━━━━━━━━━━━━━\u001b[0m \u001b[32m121.6/121.6 MB\u001b[0m \u001b[31m7.5 MB/s\u001b[0m eta \u001b[36m0:00:00\u001b[0m\n",
            "\u001b[?25hCollecting nvidia-curand-cu12==10.3.2.106 (from torch>=1.5.0->easyfsl)\n",
            "  Downloading nvidia_curand_cu12-10.3.2.106-py3-none-manylinux1_x86_64.whl (56.5 MB)\n",
            "\u001b[2K     \u001b[90m━━━━━━━━━━━━━━━━━━━━━━━━━━━━━━━━━━━━━━━━\u001b[0m \u001b[32m56.5/56.5 MB\u001b[0m \u001b[31m10.2 MB/s\u001b[0m eta \u001b[36m0:00:00\u001b[0m\n",
            "\u001b[?25hCollecting nvidia-cusolver-cu12==11.4.5.107 (from torch>=1.5.0->easyfsl)\n",
            "  Downloading nvidia_cusolver_cu12-11.4.5.107-py3-none-manylinux1_x86_64.whl (124.2 MB)\n",
            "\u001b[2K     \u001b[90m━━━━━━━━━━━━━━━━━━━━━━━━━━━━━━━━━━━━━━━━\u001b[0m \u001b[32m124.2/124.2 MB\u001b[0m \u001b[31m8.4 MB/s\u001b[0m eta \u001b[36m0:00:00\u001b[0m\n",
            "\u001b[?25hCollecting nvidia-cusparse-cu12==12.1.0.106 (from torch>=1.5.0->easyfsl)\n",
            "  Downloading nvidia_cusparse_cu12-12.1.0.106-py3-none-manylinux1_x86_64.whl (196.0 MB)\n",
            "\u001b[2K     \u001b[90m━━━━━━━━━━━━━━━━━━━━━━━━━━━━━━━━━━━━━━━━\u001b[0m \u001b[32m196.0/196.0 MB\u001b[0m \u001b[31m4.8 MB/s\u001b[0m eta \u001b[36m0:00:00\u001b[0m\n",
            "\u001b[?25hCollecting nvidia-nccl-cu12==2.19.3 (from torch>=1.5.0->easyfsl)\n",
            "  Downloading nvidia_nccl_cu12-2.19.3-py3-none-manylinux1_x86_64.whl (166.0 MB)\n",
            "\u001b[2K     \u001b[90m━━━━━━━━━━━━━━━━━━━━━━━━━━━━━━━━━━━━━━━━\u001b[0m \u001b[32m166.0/166.0 MB\u001b[0m \u001b[31m5.7 MB/s\u001b[0m eta \u001b[36m0:00:00\u001b[0m\n",
            "\u001b[?25hCollecting nvidia-nvtx-cu12==12.1.105 (from torch>=1.5.0->easyfsl)\n",
            "  Downloading nvidia_nvtx_cu12-12.1.105-py3-none-manylinux1_x86_64.whl (99 kB)\n",
            "\u001b[2K     \u001b[90m━━━━━━━━━━━━━━━━━━━━━━━━━━━━━━━━━━━━━━━━\u001b[0m \u001b[32m99.1/99.1 kB\u001b[0m \u001b[31m10.4 MB/s\u001b[0m eta \u001b[36m0:00:00\u001b[0m\n",
            "\u001b[?25hRequirement already satisfied: triton==2.2.0 in /usr/local/lib/python3.10/dist-packages (from torch>=1.5.0->easyfsl) (2.2.0)\n",
            "Collecting nvidia-nvjitlink-cu12 (from nvidia-cusolver-cu12==11.4.5.107->torch>=1.5.0->easyfsl)\n",
            "  Downloading nvidia_nvjitlink_cu12-12.4.99-py3-none-manylinux2014_x86_64.whl (21.1 MB)\n",
            "\u001b[2K     \u001b[90m━━━━━━━━━━━━━━━━━━━━━━━━━━━━━━━━━━━━━━━━\u001b[0m \u001b[32m21.1/21.1 MB\u001b[0m \u001b[31m64.5 MB/s\u001b[0m eta \u001b[36m0:00:00\u001b[0m\n",
            "\u001b[?25hRequirement already satisfied: six>=1.5 in /usr/local/lib/python3.10/dist-packages (from python-dateutil>=2.7->matplotlib>=3.0.0->easyfsl) (1.16.0)\n",
            "Requirement already satisfied: MarkupSafe>=2.0 in /usr/local/lib/python3.10/dist-packages (from jinja2->torch>=1.5.0->easyfsl) (2.1.5)\n",
            "Requirement already satisfied: mpmath>=0.19 in /usr/local/lib/python3.10/dist-packages (from sympy->torch>=1.5.0->easyfsl) (1.3.0)\n",
            "Installing collected packages: nvidia-nvtx-cu12, nvidia-nvjitlink-cu12, nvidia-nccl-cu12, nvidia-curand-cu12, nvidia-cufft-cu12, nvidia-cuda-runtime-cu12, nvidia-cuda-nvrtc-cu12, nvidia-cuda-cupti-cu12, nvidia-cublas-cu12, nvidia-cusparse-cu12, nvidia-cudnn-cu12, nvidia-cusolver-cu12, easyfsl\n",
            "Successfully installed easyfsl-1.5.0 nvidia-cublas-cu12-12.1.3.1 nvidia-cuda-cupti-cu12-12.1.105 nvidia-cuda-nvrtc-cu12-12.1.105 nvidia-cuda-runtime-cu12-12.1.105 nvidia-cudnn-cu12-8.9.2.26 nvidia-cufft-cu12-11.0.2.54 nvidia-curand-cu12-10.3.2.106 nvidia-cusolver-cu12-11.4.5.107 nvidia-cusparse-cu12-12.1.0.106 nvidia-nccl-cu12-2.19.3 nvidia-nvjitlink-cu12-12.4.99 nvidia-nvtx-cu12-12.1.105\n"
          ]
        }
      ],
      "source": [
        "!pip install easyfsl"
      ]
    },
    {
      "cell_type": "markdown",
      "source": [
        "## 1.1 Base Imports"
      ],
      "metadata": {
        "id": "Q5eSkwgWyPwI"
      }
    },
    {
      "cell_type": "code",
      "source": [
        "import requests\n",
        "import base64\n",
        "import os\n",
        "from google.colab import userdata"
      ],
      "metadata": {
        "id": "nxtrVsCyyPGk"
      },
      "execution_count": null,
      "outputs": []
    },
    {
      "cell_type": "markdown",
      "source": [
        "## 1.2 Helper Functions & Necessary Data"
      ],
      "metadata": {
        "id": "1ybbzgKJySbg"
      }
    },
    {
      "cell_type": "code",
      "source": [
        "openai_api_key = userdata.get(\"openai_api_key\")\n",
        "\n",
        "def get_headers(api_key):\n",
        "  request_headers = {\n",
        "        \"Content-Type\": \"application/json\",\n",
        "        \"Authorization\": f\"Bearer {api_key}\"\n",
        "    }\n",
        "\n",
        "  return request_headers\n",
        "\n",
        "def encode_image(image_path):\n",
        "    with open(image_path, \"rb\") as image_file:\n",
        "        return base64.b64encode(image_file.read()).decode('utf-8')\n",
        "\n",
        "def get_classification_payload(image_path):\n",
        "    payload = {\n",
        "        \"model\": \"gpt-4-vision-preview\",\n",
        "        \"messages\": [\n",
        "            {\n",
        "                \"role\": \"user\",\n",
        "                \"content\": [\n",
        "                    {\n",
        "                        \"type\": \"text\",\n",
        "                        \"text\": \"Classify this flag's country (or 'edge' if it is not a country) and creative complexity (on a scale 0-10, with blank flags being a 0, the Indonesian flag being a 2, and the American flag being a 10. Please format the response in the form of '{Country} {Creative Complexity}.'\"\n",
        "                    },\n",
        "                    {\n",
        "                        \"type\": \"image_url\",\n",
        "                        \"image_url\": {\n",
        "                            \"url\": f\"data:image/jpeg;base64,{encode_image(image_path)}\"\n",
        "                        }\n",
        "                    }\n",
        "                ]\n",
        "            }\n",
        "        ],\n",
        "        \"max_tokens\": 300\n",
        "    }\n",
        "\n",
        "    return payload\n",
        "\n",
        "def make_classification_request(image_path, api_key):\n",
        "  response = requests.post(\"https://api.openai.com/v1/chat/completions\",\n",
        "                            headers=get_headers(api_key),\n",
        "                            json=get_classification_payload(image_path))\n",
        "\n",
        "  return response.json()"
      ],
      "metadata": {
        "id": "oQlrQ3ZlyCWl"
      },
      "execution_count": null,
      "outputs": []
    },
    {
      "cell_type": "markdown",
      "source": [
        "## 1.3 Data Loading\n",
        "\n",
        "Note: We don't need to train GPT for this task. We also as of 12/15/2023 cannot fine-tune the model."
      ],
      "metadata": {
        "id": "qC_q73Vu0KAN"
      }
    },
    {
      "cell_type": "code",
      "source": [
        "# Set the base path to specify where we are working\n",
        "PROJECT_BASE_PATH = \"/content/drive/MyDrive/CS 229 Project\"  # Change to match your mounted drive layout\n",
        "\n",
        "# Set paths for our test data with proper relation to our mounted drive\n",
        "TEST_PATH = os.path.join(PROJECT_BASE_PATH, \"all_complexities_easyset_test.json\")"
      ],
      "metadata": {
        "id": "dGxDQ_MEy2IG"
      },
      "execution_count": null,
      "outputs": []
    },
    {
      "cell_type": "markdown",
      "source": [
        "### a. (Run Once) Split Data\n",
        "You should not (and likely will get an error either way if you try to) repeat this step.\n",
        "\n",
        "Make sure you have all your files in hand so you do not have to reset your data and repeat this step."
      ],
      "metadata": {
        "id": "K14NkI650cFR"
      }
    },
    {
      "cell_type": "code",
      "source": [
        "# You'll need to copy over your PROJECT_BASE_PATH to here as well\n",
        "safeguard = True\n",
        "\n",
        "if not safeguard:\n",
        "  !python /content/drive/MyDrive/\"CS 229 Project\"/create_easyset_data.py\n",
        "  !python /content/drive/MyDrive/\"CS 229 Project\"/create_train_test_easyset.py\n",
        "else:\n",
        "  print(\"Safeguard is active. Skipping data split.\")"
      ],
      "metadata": {
        "colab": {
          "base_uri": "https://localhost:8080/"
        },
        "id": "EY4XNC3c0cWD",
        "outputId": "86cf2c99-9bf4-4697-8f4c-63f7ef0aefd5"
      },
      "execution_count": null,
      "outputs": [
        {
          "output_type": "stream",
          "name": "stdout",
          "text": [
            "Safeguard is active. Skipping data split.\n"
          ]
        }
      ]
    },
    {
      "cell_type": "markdown",
      "source": [
        "### b. (Optional) Verify Data Paths"
      ],
      "metadata": {
        "id": "rrn11JRF0fnR"
      }
    },
    {
      "cell_type": "code",
      "source": [
        "print(f\"{TEST_PATH = }\")"
      ],
      "metadata": {
        "colab": {
          "base_uri": "https://localhost:8080/"
        },
        "id": "JH8dm4s60iUW",
        "outputId": "31e004cb-62dd-4c57-d385-073ab7538fe9"
      },
      "execution_count": null,
      "outputs": [
        {
          "output_type": "stream",
          "name": "stdout",
          "text": [
            "TEST_PATH = '/content/drive/MyDrive/CS 229 Project/all_complexities_easyset_test.json'\n"
          ]
        }
      ]
    },
    {
      "cell_type": "markdown",
      "source": [
        "## 1.4 Generate EasySet Data"
      ],
      "metadata": {
        "id": "thZkGNFC0mYk"
      }
    },
    {
      "cell_type": "code",
      "source": [
        "from easyfsl.datasets import EasySet\n",
        "from torchvision import transforms\n",
        "\n",
        "image_size = 80\n",
        "\n",
        "test_transform = transforms.Compose(\n",
        "    [\n",
        "        transforms.RandomResizedCrop(image_size),\n",
        "        transforms.ToTensor()\n",
        "        # ,transforms.Normalize(**{\"mean\": [0.485, 0.456, 0.406], \"std\": [0.229, 0.224, 0.225]})\n",
        "    ]\n",
        ")\n",
        "\n",
        "test_set = EasySet(TEST_PATH, image_size=image_size, transform=test_transform)"
      ],
      "metadata": {
        "id": "zFAghFDB0nor"
      },
      "execution_count": null,
      "outputs": []
    },
    {
      "cell_type": "markdown",
      "source": [
        "### (Optional) Validate Data"
      ],
      "metadata": {
        "id": "4-OZNZzg01BA"
      }
    },
    {
      "cell_type": "code",
      "source": [
        "# Test set checks\n",
        "print(f\"{test_set.number_of_classes() = }\")\n",
        "print(f\"{len(test_set) = }\")"
      ],
      "metadata": {
        "colab": {
          "base_uri": "https://localhost:8080/"
        },
        "id": "RPGD6Igd00sC",
        "outputId": "f2457412-d729-4b27-bc47-efd831d43c92"
      },
      "execution_count": null,
      "outputs": [
        {
          "output_type": "stream",
          "name": "stdout",
          "text": [
            "test_set.number_of_classes() = 11\n",
            "len(test_set) = 401\n"
          ]
        }
      ]
    },
    {
      "cell_type": "markdown",
      "source": [
        "## 1.5 Get Test Set"
      ],
      "metadata": {
        "id": "AxYBND0p09PO"
      }
    },
    {
      "cell_type": "code",
      "source": [
        "from tqdm import tqdm\n",
        "\n",
        "# Get our query images and labels\n",
        "data_roots = [os.path.join(PROJECT_BASE_PATH, \"data\", class_name + \"_test\") for class_name in test_set.class_names]\n",
        "image_paths, labels = test_set.list_data_instances(data_roots)"
      ],
      "metadata": {
        "id": "XiaZcSvt0850"
      },
      "execution_count": null,
      "outputs": []
    },
    {
      "cell_type": "markdown",
      "source": [
        "### (Optional) Check size"
      ],
      "metadata": {
        "id": "239rbgbt5CSu"
      }
    },
    {
      "cell_type": "code",
      "source": [
        "assert(len(image_paths) == len(test_set))"
      ],
      "metadata": {
        "id": "SOmGpVXt3DS0"
      },
      "execution_count": null,
      "outputs": []
    },
    {
      "cell_type": "markdown",
      "source": [
        "# 2.0 Run Comparisons"
      ],
      "metadata": {
        "id": "LXhmMOr_5av3"
      }
    },
    {
      "cell_type": "code",
      "source": [
        "from time import sleep\n",
        "\n",
        "predictions = {}\n",
        "\n",
        "RUN_SAFEGUARD = True\n",
        "\n",
        "if not RUN_SAFEGUARD:\n",
        "  for i in tqdm(range(len(image_paths))):\n",
        "    path = image_paths[i]\n",
        "\n",
        "    try:\n",
        "      response = make_classification_request(path, openai_api_key)\n",
        "      prediction = response[\"choices\"][0][\"message\"][\"content\"]\n",
        "      country, complexity = prediction.split()\n",
        "\n",
        "      predictions[path] = {\"country\": country, \"complexity\": int(float(complexity))}\n",
        "\n",
        "    except:\n",
        "      print(path, \"had an error. Waiting and trying again\")\n",
        "      sleep(60)\n",
        "\n",
        "      try:\n",
        "        response = make_classification_request(path, openai_api_key)\n",
        "        prediction = response[\"choices\"][0][\"message\"][\"content\"]\n",
        "        country, complexity = prediction.split()\n",
        "\n",
        "        predictions[path] = {\"country\": country, \"complexity\": int(float(complexity))}\n",
        "\n",
        "      except:\n",
        "        print(path, \"failed to resolve its error.\")\n",
        "else:\n",
        "  print(\"Run time safeguard for API calls is active. Skipping cell.\")"
      ],
      "metadata": {
        "colab": {
          "base_uri": "https://localhost:8080/"
        },
        "id": "YSGY0CBf6JM3",
        "outputId": "319f6015-6248-48b0-f6c9-abdb2ea2d5b1"
      },
      "execution_count": null,
      "outputs": [
        {
          "output_type": "stream",
          "name": "stdout",
          "text": [
            "Run time safeguard for API calls is active. Skipping cell.\n"
          ]
        }
      ]
    },
    {
      "cell_type": "code",
      "source": [
        "import json\n",
        "\n",
        "PREDICTIONS_SAVE_PATH = \"chatgpt_predictions.json\"\n",
        "gpt_save_path = os.path.join(PROJECT_BASE_PATH, PREDICTIONS_SAVE_PATH)\n",
        "\n",
        "if not RUN_SAFEGUARD:\n",
        "  with open(gpt_save_path, 'w') as out_fp:\n",
        "    json.dump(predictions, out_fp, indent=4)\n",
        "\n",
        "else:\n",
        "  with open(gpt_save_path, 'r') as in_fp:\n",
        "    predictions = json.load(in_fp)"
      ],
      "metadata": {
        "id": "h1UF-D9l6Shf"
      },
      "execution_count": null,
      "outputs": []
    },
    {
      "cell_type": "markdown",
      "source": [
        "# 3.0 Evaluate\n"
      ],
      "metadata": {
        "id": "NHa6SyRT9ho1"
      }
    },
    {
      "cell_type": "markdown",
      "source": [
        "## 3.1 Complexity"
      ],
      "metadata": {
        "id": "IvE2eHgVRPF2"
      }
    },
    {
      "cell_type": "code",
      "source": [
        "num_correct = 0\n",
        "num_total = len(predictions)\n",
        "num_counted = len(predictions)\n",
        "\n",
        "for i in range(num_total):\n",
        "  try:\n",
        "    image_path = image_paths[i]\n",
        "\n",
        "    prediction = predictions[image_path][\"complexity\"]\n",
        "    y_complexity = labels[i]\n",
        "\n",
        "    if (y_complexity >= 2 and prediction >= 2) or (y_complexity < 2 and prediction < 2):\n",
        "      num_correct += 1\n",
        "  except:\n",
        "    num_counted -= 1\n",
        "\n",
        "print(f\"Num Correct: {num_correct}/{num_counted}\")\n",
        "print(f\"Accuracy: {num_correct / num_counted}\")"
      ],
      "metadata": {
        "colab": {
          "base_uri": "https://localhost:8080/"
        },
        "id": "mf5Nnklg9jF0",
        "outputId": "9305471a-de4d-4783-8861-2e531bf37386"
      },
      "execution_count": null,
      "outputs": [
        {
          "output_type": "stream",
          "name": "stdout",
          "text": [
            "Num Correct: 306/389\n",
            "Accuracy: 0.7866323907455013\n"
          ]
        }
      ]
    },
    {
      "cell_type": "markdown",
      "source": [
        "## 3.2 Country"
      ],
      "metadata": {
        "id": "UB99crzVRR4W"
      }
    },
    {
      "cell_type": "code",
      "source": [
        "num_correct = 0\n",
        "num_total = len(predictions)\n",
        "num_counted = len(predictions)\n",
        "\n",
        "with open(os.path.join(PROJECT_BASE_PATH, \"final_data.json\")) as in_fp:\n",
        "  all_data = json.load(in_fp)\n",
        "\n",
        "for i in range(num_total):\n",
        "  try:\n",
        "    image_path = image_paths[i]\n",
        "\n",
        "    prediction = predictions[image_path][\"country\"]\n",
        "    cleaned_path = image_path[len(image_path) - image_path[::-1].find('/'):]\n",
        "    y_country = all_data[cleaned_path][\"country\"]\n",
        "\n",
        "    if y_country.lower() == prediction.lower():\n",
        "      num_correct += 1\n",
        "  except:\n",
        "    num_counted -= 1\n",
        "\n",
        "print(f\"Num Correct: {num_correct}/{num_counted}\")\n",
        "print(f\"Accuracy: {num_correct / num_counted}\")"
      ],
      "metadata": {
        "colab": {
          "base_uri": "https://localhost:8080/"
        },
        "id": "L3C9CBxPRSLy",
        "outputId": "fa2d852b-e602-498c-ef20-a3d554498234"
      },
      "execution_count": null,
      "outputs": [
        {
          "output_type": "stream",
          "name": "stdout",
          "text": [
            "Num Correct: 189/389\n",
            "Accuracy: 0.48586118251928023\n"
          ]
        }
      ]
    }
  ]
}